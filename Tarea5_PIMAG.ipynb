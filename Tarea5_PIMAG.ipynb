{
 "cells": [
  {
   "cell_type": "raw",
   "id": "61fe50ca-55b9-489a-9d28-fe7e5a880e30",
   "metadata": {},
   "source": [
    "*******TALLER_5 Homografias    Cristhian Alejandro Rojas Martinez"
   ]
  },
  {
   "cell_type": "code",
   "execution_count": 25,
   "id": "fcebea08-32c9-47bf-be6b-d1b7a0642055",
   "metadata": {},
   "outputs": [],
   "source": [
    "import cv2\n",
    "import sys\n",
    "import os\n",
    "import numpy as np"
   ]
  },
  {
   "cell_type": "code",
   "execution_count": 26,
   "id": "af14b6db",
   "metadata": {},
   "outputs": [],
   "source": [
    "#Extraer datos de una ruta\n",
    "from pathlib import Path\n",
    "\n",
    "def ls3(path):\n",
    "    return [obj.name for obj in Path(path).iterdir() if obj.is_file()]"
   ]
  },
  {
   "cell_type": "code",
   "execution_count": 27,
   "id": "b20118bb",
   "metadata": {},
   "outputs": [
    {
     "name": "stdout",
     "output_type": "stream",
     "text": [
      "El total de imagenes para el ejercicio es de 3\n"
     ]
    },
    {
     "name": "stdin",
     "output_type": "stream",
     "text": [
      "Ingrese el numero de imagen de referencia:  2\n"
     ]
    }
   ],
   "source": [
    "#Contar el numero de fotos en la ruta 'path'\n",
    "path = r'C:\\Users\\caroj\\Documents\\Maestria_AI\\ProcesamientoImagen\\otras'\n",
    "a = ls3(path)\n",
    "image = []\n",
    "total =0\n",
    "for image_name in a:\n",
    "    path_file = os.path.join(path, image_name)\n",
    "    imagen = cv2.imread(path_file)\n",
    "    image.append(imagen)\n",
    "    total += 1\n",
    "# Imprime el total de imagenes a trabajar\n",
    "print(\"El total de imagenes para el ejercicio es de\", total )\n",
    "# Solicita al usuario el numero de imagen de referencia\n",
    "ref = int(input(\"Ingrese el numero de imagen de referencia: \"))\n"
   ]
  },
  {
   "cell_type": "code",
   "execution_count": 28,
   "id": "9b890973",
   "metadata": {},
   "outputs": [],
   "source": [
    "def click(event, x, y, flags, param): # permite enconcontarr los puntos clickeados \n",
    "    if event == cv2.EVENT_LBUTTONDOWN:\n",
    "        points.append((x, y))"
   ]
  },
  {
   "cell_type": "code",
   "execution_count": 29,
   "id": "fa7544d3-6822-41cd-803c-56560dc01071",
   "metadata": {},
   "outputs": [],
   "source": [
    "# Metodo que permite generar la homografia apartir de un par de imagenes concatenadas; tiene dos parametros 1. la imagen concatenada 2. un arreglo de puntos inicializados en vacio retorna la matriz de homografia\n",
    "def generarHomografia(concatenada, points) :\n",
    "    width = image[0].shape[1]\n",
    "    image_draw = np.copy(concatenada)\n",
    "    #image_draw = cv2.hconcat(np.copy(image[0]),np.copy(image[1]))\n",
    "    pointsN = []\n",
    "    points1 = []\n",
    "    points2 = []\n",
    "    \n",
    "    cv2.namedWindow(\"Image\")\n",
    "    cv2.setMouseCallback(\"Image\", click)\n",
    "\n",
    "    point_counter = 0\n",
    "    \n",
    "    while True:\n",
    "        \n",
    "        cv2.imshow(\"Image\", image_draw)\n",
    "        key = cv2.waitKey(1) & 0xFF\n",
    "        if key == ord(\"x\"):\n",
    "            pointsN = points.copy()\n",
    "            points = []\n",
    "            break\n",
    "        if len(points) > point_counter:\n",
    "            point_counter = len(points)\n",
    "             #Dado que los puntos son intercalados entonces se asume que los pares son azules y los impares son rojos\n",
    "            if point_counter % 2 == 0:\n",
    "                cv2.circle(image_draw, (points[-1][0], points[-1][1]), 3, [0, 0, 255], -1)\n",
    "            else:\n",
    "                cv2.circle(image_draw, (points[-1][0], points[-1][1]), 3, [255, 0, 0], -1)\n",
    "    count = 0\n",
    "    # Se dividen en dos arreglos los puntos azules points1 y los rojos points2\n",
    "    for i in pointsN: # extraer elementos de posiciones imapres\n",
    "        if count % 2 == 0:\n",
    "            points1.append(i)\n",
    "        else:\n",
    "            points2.append(i)\n",
    "        count += 1\n",
    "        \n",
    "   # Teniendo en cuenta que la posicion de los puntos se ve afectada por lo cual se debe hacer una correccion de posicion en los points2\n",
    "    puntos2 =[]\n",
    "    for k in points2:\n",
    "        puntos2.append((k[0]- width,k[1]) )\n",
    "\n",
    "    # Revision de 4 puntos\n",
    "    N = min(len(points1), len(points2))\n",
    "    assert N >= 4, 'At least four points are required'\n",
    "    \n",
    "    pts1 = np.array(points1[:N])\n",
    "    pts2 = np.array(puntos2[:N])\n",
    "    if False:\n",
    "        H, _ = cv2.findHomography(pts1, pts2, method=0)\n",
    "    else:\n",
    "        H, _ = cv2.findHomography(pts1, pts2, method=cv2.RANSAC)\n",
    "        \n",
    "    cv2.waitKey(0)\n",
    "    cv2.destroyWindow(\"Image\")\n",
    "    #retorna h -> la homografia del par de fotos\n",
    "    return H\n",
    "    \n",
    "    "
   ]
  },
  {
   "cell_type": "code",
   "execution_count": 30,
   "id": "fcfbcfab",
   "metadata": {},
   "outputs": [],
   "source": [
    "# ---------- GENERACION DE TODOS LOS PARES DE FOTOGRAFIAS Y PROCESAMIENTO PARA OBTENER LAS HOMGRAFIAS POR PARES -----------------------------------------------------\n",
    "# Construir imagen concatenada y alamcenamiento \n",
    "Concatenadas = []\n",
    "for i in range(1,total):\n",
    "    x = np.concatenate((image[i-1], image[i]), axis=1)  # se concatenan las 2 imagenes \n",
    "    Concatenadas.append(x) # Agregar la imagen concatenada x en el arreglo Concatenadas \n",
    "    \n",
    "# Procesamiento \n",
    "Homografias = [] # En este arreglo se almacenan las homografias resultado de la concatenacion\n",
    "for h in Concatenadas:\n",
    "     \n",
    "    points = [] # Puntos iniciales parametro del metodo generarHomografia\n",
    "    a = generarHomografia(h,points) # en a se alamcena la homografia resultalte de la imagen Image[i-1] , image[i]\n",
    "    Homografias.append(a)\n",
    "    \n"
   ]
  },
  {
   "cell_type": "code",
   "execution_count": 32,
   "id": "039f9458-067a-45d6-bc85-3b134871a6a4",
   "metadata": {},
   "outputs": [],
   "source": [
    "# Encontrar las homografias basados en la imagen referencia indicada por el usuario\n",
    "ref = ref-1\n",
    "resultados = [] # Alamcena las proyecciones de las homgrafias en relacion a la imagen de referencia\n",
    "for i in range(0, len(Homografias)):\n",
    "    # genera las tranformaciones de la primera mitad de utilizando la imagen de referencia como la mitad \n",
    "    if (ref) > i:\n",
    "        \n",
    "        if i - (ref-1) ==0:\n",
    "            resultados.append(x[i]) \n",
    "        else:\n",
    "            contador= i\n",
    "            mult =x[contador]\n",
    "            while contador!= ref-1:\n",
    "                mult = mult * x[contador+1]\n",
    "                contador += 1\n",
    "            resultados.append(mult)\n",
    "    # genera las tranformaciones de la segunda mitad de utilizando la imagen de referencia como la mitad \n",
    "    else:\n",
    "        if i - (ref) ==0:\n",
    "            resultados.append(x[i])\n",
    "        else:\n",
    "            contador= i\n",
    "            mult =x[contador]\n",
    "            while contador!= ref:\n",
    "                mult = mult * x[contador-1]\n",
    "                contador -= 1\n",
    "            a = np.linalg.inv(mult)\n",
    "            resultados.append(a)    "
   ]
  },
  {
   "cell_type": "code",
   "execution_count": 31,
   "id": "c4fafeac-f419-43a4-9ce2-f16980494a96",
   "metadata": {},
   "outputs": [
    {
     "name": "stdout",
     "output_type": "stream",
     "text": [
      "[[ 9.40404902e-01  7.71293203e-03 -1.86987540e+02]\n",
      " [ 8.43478730e-03  9.91783212e-01 -4.91132692e+00]\n",
      " [ 3.19569434e-05 -3.10633748e-05  1.00000000e+00]]\n"
     ]
    }
   ],
   "source": [
    "\n",
    "print(Homografias[1])"
   ]
  },
  {
   "cell_type": "code",
   "execution_count": 33,
   "id": "c6c42b52-a9d8-4f38-b450-a3eb6516d46f",
   "metadata": {},
   "outputs": [],
   "source": [
    "transformadas = []\n",
    "\n",
    "\n",
    "image_warped1 = cv2.warpPerspective(image[0], Homografias[0], (image[0].shape[1], image[0].shape[0]))\n",
    "image_warped2 = cv2.warpPerspective(image[2], Homografias[1], (image[2].shape[1], image[2].shape[0]))\n",
    "\n",
    "suma = cv2.add(image_warped1, image[1], image_warped2)\n",
    "cv2.imshow(\"Suma\", suma)\n",
    "cv2.waitKey(0)\n",
    "cv2.destroyWindow(\"Suma\")"
   ]
  },
  {
   "cell_type": "code",
   "execution_count": null,
   "id": "806a4816-fab8-4230-b4f2-efc2d218948c",
   "metadata": {},
   "outputs": [],
   "source": []
  }
 ],
 "metadata": {
  "kernelspec": {
   "display_name": "Python 3",
   "language": "python",
   "name": "python3"
  },
  "language_info": {
   "codemirror_mode": {
    "name": "ipython",
    "version": 3
   },
   "file_extension": ".py",
   "mimetype": "text/x-python",
   "name": "python",
   "nbconvert_exporter": "python",
   "pygments_lexer": "ipython3",
   "version": "3.8.8"
  }
 },
 "nbformat": 4,
 "nbformat_minor": 5
}
