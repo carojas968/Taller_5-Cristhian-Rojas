{
 "cells": [
  {
   "cell_type": "raw",
   "id": "61fe50ca-55b9-489a-9d28-fe7e5a880e30",
   "metadata": {},
   "source": [
    "*******TALLER_5 Homografias    Cristhian Alejandro Rojas Martinez"
   ]
  },
  {
   "cell_type": "code",
   "execution_count": null,
   "id": "fcebea08-32c9-47bf-be6b-d1b7a0642055",
   "metadata": {},
   "outputs": [],
   "source": [
    "import cv2\n",
    "import sys\n",
    "import os\n",
    "import numpy as np"
   ]
  },
  {
   "cell_type": "code",
   "execution_count": 33,
   "id": "af14b6db",
   "metadata": {},
   "outputs": [],
   "source": [
    "#Extraer datos de una ruta\n",
    "from pathlib import Path\n",
    "\n",
    "def ls3(path):\n",
    "    return [obj.name for obj in Path(path).iterdir() if obj.is_file()]"
   ]
  },
  {
   "cell_type": "code",
   "execution_count": 34,
   "id": "b20118bb",
   "metadata": {},
   "outputs": [
    {
     "name": "stdout",
     "output_type": "stream",
     "text": [
      "El total de imagenes para el ejercicio es de 3\n"
     ]
    },
    {
     "name": "stdin",
     "output_type": "stream",
     "text": [
      "Ingrese el numero de imagen de referencia:  2\n"
     ]
    },
    {
     "name": "stdout",
     "output_type": "stream",
     "text": [
      "1280\n"
     ]
    }
   ],
   "source": [
    "#Contar el numero de fotos en la ruta 'path'\n",
    "path = r'C:\\Users\\caroj\\Documents\\Maestria_AI\\ProcesamientoImagen\\otras'\n",
    "a = ls3(path)\n",
    "image = []\n",
    "total =0\n",
    "for image_name in a:\n",
    "    path_file = os.path.join(path, image_name)\n",
    "    imagen = cv2.imread(path_file)\n",
    "    image.append(imagen)\n",
    "    total += 1\n",
    "# Imprime el total de imagenes a trabajar\n",
    "print(\"El total de imagenes para el ejercicio es de\", total )\n",
    "# Solicita al usuario el numero de imagen de referencia\n",
    "ref = int(input(\"Ingrese el numero de imagen de referencia: \"))\n"
   ]
  },
  {
   "cell_type": "code",
   "execution_count": 35,
   "id": "9b890973",
   "metadata": {},
   "outputs": [],
   "source": [
    "def click(event, x, y, flags, param): # permite enconcontarr los puntos clickeados \n",
    "    if event == cv2.EVENT_LBUTTONDOWN:\n",
    "        points.append((x, y))"
   ]
  },
  {
   "cell_type": "code",
   "execution_count": 36,
   "id": "fa7544d3-6822-41cd-803c-56560dc01071",
   "metadata": {},
   "outputs": [],
   "source": [
    "# Metodo que permite generar la homografia apartir de un par de imagenes concatenadas; tiene dos parametros 1. la imagen concatenada 2. un arreglo de puntos inicializados en vacio retorna la matriz de homografia\n",
    "def generarHomografia(concatenada, points) :\n",
    "    width = image[0].shape[1]\n",
    "    image_draw = np.copy(concatenada)\n",
    "    #image_draw = cv2.hconcat(np.copy(image[0]),np.copy(image[1]))\n",
    "    pointsN = []\n",
    "    points1 = []\n",
    "    points2 = []\n",
    "    \n",
    "    cv2.namedWindow(\"Image\")\n",
    "    cv2.setMouseCallback(\"Image\", click)\n",
    "\n",
    "    point_counter = 0\n",
    "    \n",
    "    while True:\n",
    "        \n",
    "        cv2.imshow(\"Image\", image_draw)\n",
    "        key = cv2.waitKey(1) & 0xFF\n",
    "        if key == ord(\"x\"):\n",
    "            pointsN = points.copy()\n",
    "            points = []\n",
    "            break\n",
    "        if len(points) > point_counter:\n",
    "            point_counter = len(points)\n",
    "             #Dado que los puntos son intercalados entonces se asume que los pares son azules y los impares son rojos\n",
    "            if point_counter % 2 == 0:\n",
    "                cv2.circle(image_draw, (points[-1][0], points[-1][1]), 3, [0, 0, 255], -1)\n",
    "            else:\n",
    "                cv2.circle(image_draw, (points[-1][0], points[-1][1]), 3, [255, 0, 0], -1)\n",
    "    count = 0\n",
    "    # Se dividen en dos arreglos los puntos azules points1 y los rojos points2\n",
    "    for i in pointsN: # extraer elementos de posiciones imapres\n",
    "        if count % 2 == 0:\n",
    "            points1.append(i)\n",
    "        else:\n",
    "            points2.append(i)\n",
    "        count += 1\n",
    "        \n",
    "   # Teniendo en cuenta que la posicion de los puntos se ve afectada por lo cual se debe hacer una correccion de posicion en los points2\n",
    "    puntos2 =[]\n",
    "    for k in points2:\n",
    "        puntos2.append((k[0]- width,k[1]) )\n",
    "\n",
    "    # Revision de 4 puntos\n",
    "    N = min(len(points1), len(points2))\n",
    "    assert N >= 4, 'At least four points are required'\n",
    "    \n",
    "    pts1 = np.array(points1[:N])\n",
    "    pts2 = np.array(puntos2[:N])\n",
    "    if False:\n",
    "        H, _ = cv2.findHomography(pts1, pts2, method=0)\n",
    "    else:\n",
    "        H, _ = cv2.findHomography(pts1, pts2, method=cv2.RANSAC)\n",
    "        \n",
    "    cv2.waitKey(0)\n",
    "    cv2.destroyWindow(\"Image\")\n",
    "    #retorna h -> la homografia del par de fotos\n",
    "    return H\n",
    "    \n",
    "    "
   ]
  },
  {
   "cell_type": "code",
   "execution_count": 37,
   "id": "fcfbcfab",
   "metadata": {},
   "outputs": [],
   "source": [
    "# ---------- GENERACION DE TODOS LOS PARES DE FOTOGRAFIAS Y PROCESAMIENTO PARA OBTENER LAS HOMGRAFIAS POR PARES -----------------------------------------------------\n",
    "# Construir imagen concatenada y alamcenamiento \n",
    "Concatenadas = []\n",
    "for i in range(1,total):\n",
    "    x = np.concatenate((image[i-1], image[i]), axis=1)  # se concatenan las 2 imagenes \n",
    "    Concatenadas.append(x) # Agregar la imagen concatenada x en el arreglo Concatenadas \n",
    "    \n",
    "# Procesamiento    \n",
    "for h in Concatenadas:\n",
    "    Homografias = [] # En este arreglo se almacenan las homografias resultado de la concatenacion \n",
    "    points = [] # Puntos iniciales parametro del metodo generarHomografia\n",
    "    a = generarHomografia(h,points) # en a se alamcena la homografia resultalte de la imagen Image[i-1] , image[i]\n",
    "    Homografias.append(a)\n",
    "    \n"
   ]
  },
  {
   "cell_type": "code",
   "execution_count": 38,
   "id": "039f9458-067a-45d6-bc85-3b134871a6a4",
   "metadata": {},
   "outputs": [],
   "source": [
    "# Encontrar las homografias basados en la imagen referencia indicada por el usuario\n",
    "ref = ref-1\n",
    "resultados = [] # Alamcena las proyecciones de las homgrafias en relacion a la imagen de referencia\n",
    "for i in range(0, len(Homografias)):\n",
    "    # genera las tranformaciones de la primera mitad de utilizando la imagen de referencia como la mitad \n",
    "    if (ref) > i:\n",
    "        \n",
    "        if i - (ref-1) ==0:\n",
    "            resultados.append(x[i]) \n",
    "        else:\n",
    "            contador= i\n",
    "            mult =x[contador]\n",
    "            while contador!= ref-1:\n",
    "                mult = mult * x[contador+1]\n",
    "                contador += 1\n",
    "            resultados.append(mult)\n",
    "    # genera las tranformaciones de la segunda mitad de utilizando la imagen de referencia como la mitad \n",
    "    else:\n",
    "        if i - (ref) ==0:\n",
    "            resultados.append(x[i])\n",
    "        else:\n",
    "            contador= i\n",
    "            mult =x[contador]\n",
    "            while contador!= ref:\n",
    "                mult = mult * x[contador-1]\n",
    "                contador -= 1\n",
    "            a = np.linalg.inv(mult)\n",
    "            resultados.append(a)    "
   ]
  },
  {
   "cell_type": "code",
   "execution_count": 39,
   "id": "c4fafeac-f419-43a4-9ce2-f16980494a96",
   "metadata": {},
   "outputs": [
    {
     "name": "stdout",
     "output_type": "stream",
     "text": [
      "[[224 224 218]\n",
      " [224 224 218]\n",
      " [224 224 218]\n",
      " ...\n",
      " [114 126 108]\n",
      " [116 126 109]\n",
      " [116 126 109]]\n"
     ]
    }
   ],
   "source": [
    "\n",
    "print(resultados[0])"
   ]
  },
  {
   "cell_type": "code",
   "execution_count": 40,
   "id": "c6c42b52-a9d8-4f38-b450-a3eb6516d46f",
   "metadata": {},
   "outputs": [
    {
     "ename": "error",
     "evalue": "OpenCV(4.5.3) C:\\Users\\runneradmin\\AppData\\Local\\Temp\\pip-req-build-q3d_8t8e\\opencv\\modules\\imgproc\\src\\imgwarp.cpp:3168: error: (-215:Assertion failed) (M0.type() == CV_32F || M0.type() == CV_64F) && M0.rows == 3 && M0.cols == 3 in function 'cv::warpPerspective'\n",
     "output_type": "error",
     "traceback": [
      "\u001b[1;31m---------------------------------------------------------------------------\u001b[0m",
      "\u001b[1;31merror\u001b[0m                                     Traceback (most recent call last)",
      "\u001b[1;32m<ipython-input-40-589eecca86c7>\u001b[0m in \u001b[0;36m<module>\u001b[1;34m\u001b[0m\n\u001b[0;32m      2\u001b[0m \u001b[1;33m\u001b[0m\u001b[0m\n\u001b[0;32m      3\u001b[0m \u001b[1;33m\u001b[0m\u001b[0m\n\u001b[1;32m----> 4\u001b[1;33m \u001b[0mimage_warped1\u001b[0m \u001b[1;33m=\u001b[0m \u001b[0mcv2\u001b[0m\u001b[1;33m.\u001b[0m\u001b[0mwarpPerspective\u001b[0m\u001b[1;33m(\u001b[0m\u001b[0mimage\u001b[0m\u001b[1;33m[\u001b[0m\u001b[1;36m0\u001b[0m\u001b[1;33m]\u001b[0m\u001b[1;33m,\u001b[0m \u001b[0mresultados\u001b[0m\u001b[1;33m[\u001b[0m\u001b[1;36m0\u001b[0m\u001b[1;33m]\u001b[0m\u001b[1;33m,\u001b[0m \u001b[1;33m(\u001b[0m\u001b[0mimage\u001b[0m\u001b[1;33m[\u001b[0m\u001b[1;36m0\u001b[0m\u001b[1;33m]\u001b[0m\u001b[1;33m.\u001b[0m\u001b[0mshape\u001b[0m\u001b[1;33m[\u001b[0m\u001b[1;36m1\u001b[0m\u001b[1;33m]\u001b[0m\u001b[1;33m,\u001b[0m \u001b[0mimage\u001b[0m\u001b[1;33m[\u001b[0m\u001b[1;36m0\u001b[0m\u001b[1;33m]\u001b[0m\u001b[1;33m.\u001b[0m\u001b[0mshape\u001b[0m\u001b[1;33m[\u001b[0m\u001b[1;36m0\u001b[0m\u001b[1;33m]\u001b[0m\u001b[1;33m)\u001b[0m\u001b[1;33m)\u001b[0m\u001b[1;33m\u001b[0m\u001b[1;33m\u001b[0m\u001b[0m\n\u001b[0m\u001b[0;32m      5\u001b[0m \u001b[0mimage_warped2\u001b[0m \u001b[1;33m=\u001b[0m \u001b[0mcv2\u001b[0m\u001b[1;33m.\u001b[0m\u001b[0mwarpPerspective\u001b[0m\u001b[1;33m(\u001b[0m\u001b[0mimage\u001b[0m\u001b[1;33m[\u001b[0m\u001b[1;36m2\u001b[0m\u001b[1;33m]\u001b[0m\u001b[1;33m,\u001b[0m \u001b[0mresultados\u001b[0m\u001b[1;33m[\u001b[0m\u001b[1;36m1\u001b[0m\u001b[1;33m]\u001b[0m\u001b[1;33m,\u001b[0m \u001b[1;33m(\u001b[0m\u001b[0mimage\u001b[0m\u001b[1;33m[\u001b[0m\u001b[1;36m2\u001b[0m\u001b[1;33m]\u001b[0m\u001b[1;33m.\u001b[0m\u001b[0mshape\u001b[0m\u001b[1;33m[\u001b[0m\u001b[1;36m1\u001b[0m\u001b[1;33m]\u001b[0m\u001b[1;33m,\u001b[0m \u001b[0mimage\u001b[0m\u001b[1;33m[\u001b[0m\u001b[1;36m2\u001b[0m\u001b[1;33m]\u001b[0m\u001b[1;33m.\u001b[0m\u001b[0mshape\u001b[0m\u001b[1;33m[\u001b[0m\u001b[1;36m0\u001b[0m\u001b[1;33m]\u001b[0m\u001b[1;33m)\u001b[0m\u001b[1;33m)\u001b[0m\u001b[1;33m\u001b[0m\u001b[1;33m\u001b[0m\u001b[0m\n\u001b[0;32m      6\u001b[0m \u001b[1;33m\u001b[0m\u001b[0m\n",
      "\u001b[1;31merror\u001b[0m: OpenCV(4.5.3) C:\\Users\\runneradmin\\AppData\\Local\\Temp\\pip-req-build-q3d_8t8e\\opencv\\modules\\imgproc\\src\\imgwarp.cpp:3168: error: (-215:Assertion failed) (M0.type() == CV_32F || M0.type() == CV_64F) && M0.rows == 3 && M0.cols == 3 in function 'cv::warpPerspective'\n"
     ]
    }
   ],
   "source": [
    "transformadas = []\n",
    "\n",
    "\n",
    "image_warped1 = cv2.warpPerspective(image[0], resultados[0], (image[0].shape[1], image[0].shape[0]))\n",
    "image_warped2 = cv2.warpPerspective(image[2], resultados[1], (image[2].shape[1], image[2].shape[0]))\n",
    "\n",
    "suma = cv2.add(image_warped1, image[1], image_warped2)\n",
    "cv2.imshow(\"Suma\", suma)"
   ]
  },
  {
   "cell_type": "code",
   "execution_count": null,
   "id": "806a4816-fab8-4230-b4f2-efc2d218948c",
   "metadata": {},
   "outputs": [],
   "source": []
  }
 ],
 "metadata": {
  "kernelspec": {
   "display_name": "Python 3",
   "language": "python",
   "name": "python3"
  },
  "language_info": {
   "codemirror_mode": {
    "name": "ipython",
    "version": 3
   },
   "file_extension": ".py",
   "mimetype": "text/x-python",
   "name": "python",
   "nbconvert_exporter": "python",
   "pygments_lexer": "ipython3",
   "version": "3.8.8"
  }
 },
 "nbformat": 4,
 "nbformat_minor": 5
}
